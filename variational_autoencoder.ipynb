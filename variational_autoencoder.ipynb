{
 "cells": [
  {
   "cell_type": "markdown",
   "id": "35c5f253",
   "metadata": {},
   "source": [
    "# Variational autoencoder\n",
    "\n",
    "This notebook contains a tutorial on the **variational autoencoder** (VAE). Since its introduction by [[Kingma and Welling, 2014](https://arxiv.org/abs/1312.6114), [Rezende et al., 2014](http://proceedings.mlr.press/v32/rezende14.html)], the framework has received much attention for its generative modeling and representation learning capabilities. Recent reviews are given in [[Doersch, 2016](https://arxiv.org/abs/1606.05908), [Kingma and Welling, 2019](https://doi.org/10.1561/2200000056), [Wei et al., 2020](https://ieeexplore.ieee.org/document/9171997)]. After a brief theoretical discussion, we demonstrate the VAE algorithm on the basis of MNIST data."
   ]
  },
  {
   "cell_type": "markdown",
   "id": "9a439769",
   "metadata": {},
   "source": [
    "## Introduction\n",
    "\n",
    "Essentially, the VAE is a joint approach to likelihood-based learning of and Bayesian inference in latent variable models with neural networks. It establishes a generative modeling scheme for data with a latent structure. For data generation, the latent variables are randomly drawn from a prior sampling distribution and then transformed. Vice versa, the posterior of the latent variables for a given data point is computed by amortized variational inference. Both the data-generating and the variational distribution are parametrized through neural networks. The VAE admits an interpretation as an unsupervised learning technique and probabilistic extension of the autoencoder, which is used for dimensionality reduction or anomaly detection.\n",
    "\n",
    "We start by discussing some simple statistical models that can be parametrized by neural networks. This includes simple binary or multiclass classification and distribution fitting. Let us investigate standard (supervised) **classification** first. The goal is the predict the class label $y$ of an input $\\boldsymbol{x}$. A neural network $\\mathrm{NN}_\\boldsymbol{\\theta}(\\boldsymbol{x})$ with unknown weights $\\boldsymbol{\\theta}$ is used the parametrize a conditional probability distribution $\\pi_\\boldsymbol{\\theta}(y | \\boldsymbol{x})$. For a multiclass problem the neural network ends with a softmax and models a categorical distribution that can be written using Iverson bracket notation as\n",
    "$$\n",
    "\\pi_\\boldsymbol{\\theta}(y | \\boldsymbol{x}) =\n",
    "\\mathrm{Categorical}(y | \\mathrm{NN}_\\boldsymbol{\\theta}(\\boldsymbol{x})) =\n",
    "\\prod_{m=1}^M \\mathrm{NN}_{\\boldsymbol{\\theta},m}(\\boldsymbol{x})^{[y=c_m]}, \\quad\n",
    "y \\in \\{c_1, \\ldots, c_M\\}.\n",
    "$$\n",
    "The probability of the $m$-th class is simply represented by the corresponding output component $\\pi_\\boldsymbol{\\theta}(y=c_m | \\boldsymbol{x}) = \\mathrm{NN}_{\\boldsymbol{\\theta},m}(\\boldsymbol{x})$. Similarly, for a binary classification problem the network would end with a sigmoid function. The probabilities of positive and negative outcomes of a Bernoulli trial are given as $\\pi_\\boldsymbol{\\theta}(y=1 | \\boldsymbol{x}) = \\mathrm{NN}_\\boldsymbol{\\theta}(\\boldsymbol{x})$ and $\\pi_\\boldsymbol{\\theta}(y=0 | \\boldsymbol{x}) = 1 - \\mathrm{NN}_\\boldsymbol{\\theta}(\\boldsymbol{x})$, respectively. This is summarized as\n",
    "$$\n",
    "\\pi_\\boldsymbol{\\theta}(y | \\boldsymbol{x}) =\n",
    "\\mathrm{Bernoulli}(y | \\mathrm{NN}_\\boldsymbol{\\theta}(\\boldsymbol{x})) =\n",
    "\\mathrm{NN}_\\boldsymbol{\\theta}(\\boldsymbol{x})^y \\,\n",
    "(1 - \\mathrm{NN}_\\boldsymbol{\\theta}(\\boldsymbol{x}))^{1-y}, \\quad\n",
    "y \\in \\{0, 1\\}.\n",
    "$$\n",
    "\n",
    "Training a classifier, binary or multiclass, requires a set of data that is denoted as $\\mathcal{D} = \\{(\\boldsymbol{x}_i, y_i)\\}_{i=1}^N$. A common approach is to maximize the corresponding likelihood function $\\pi_\\boldsymbol{\\theta}(\\mathcal{D}) = \\prod_{i=1}^N \\pi_\\boldsymbol{\\theta}(y_i | \\boldsymbol{x}_i)$.\n",
    "\n",
    "Another simple statistical model discussed for didactic purposes is (unsupervised) **distribution fitting**. Given a set of data $\\mathcal{D} = \\{\\boldsymbol{x}_i\\}_{i=1}^N$ and a model $\\boldsymbol{X}_i \\sim \\pi_\\boldsymbol{\\theta}(\\boldsymbol{x}_i)$, the likelihood function is written as $\\pi_\\boldsymbol{\\theta}(\\mathcal{D}) = \\prod_{i=1}^N \\pi_\\boldsymbol{\\theta}(\\boldsymbol{x}_i)$. The distribution parameters $\\boldsymbol{\\theta}$ are fitted by maximizing the log-likelihood\n",
    "$$\n",
    "\\hat{\\boldsymbol{\\theta}} =\n",
    "\\underset{\\boldsymbol{\\theta}}{\\mathrm{argmax}} \\,\n",
    "\\log \\pi_\\boldsymbol{\\theta}(\\mathcal{D}), \\quad\n",
    "\\log \\pi_\\boldsymbol{\\theta}(\\mathcal{D}) =\n",
    "\\sum_{i=1}^N \\log \\pi_\\boldsymbol{\\theta}(\\boldsymbol{x}_i).\n",
    "$$\n",
    "\n",
    "Now, consider a **latent variable model** with unobserved variables $\\boldsymbol{z}$ that influence the observed ones $\\boldsymbol{x}$. The joint probability model is often hierarchically factorized as $\\pi_\\boldsymbol{\\theta}(\\boldsymbol{x}_i, \\boldsymbol{z}_i) = \\pi_{\\boldsymbol{\\theta}_1}(\\boldsymbol{x}_i | \\boldsymbol{z}_i) \\, \\pi_{\\boldsymbol{\\theta}_2}(\\boldsymbol{z}_i)$. A marginalization over the latent variables yields the likelihood for a single data point as\n",
    "$$\n",
    "\\pi_\\boldsymbol{\\theta}(\\boldsymbol{x}_i) =\n",
    "\\int \\pi_\\boldsymbol{\\theta}(\\boldsymbol{x}_i, \\boldsymbol{z}_i) \\, \\mathrm{d} \\boldsymbol{z}_i =\n",
    "\\int \\pi_{\\boldsymbol{\\theta}_1}(\\boldsymbol{x}_i | \\boldsymbol{z}_i) \\,\n",
    "\\pi_{\\boldsymbol{\\theta}_2}(\\boldsymbol{z}_i) \\, \\mathrm{d} \\boldsymbol{z}_i.\n",
    "$$\n",
    "Based on $\\pi_\\boldsymbol{\\theta}(\\mathcal{D}) = \\prod_{i=1}^N \\pi_\\boldsymbol{\\theta}(\\boldsymbol{x}_i)$ one could learn the distribution parameters $\\boldsymbol{\\theta} = (\\boldsymbol{\\theta}_1, \\boldsymbol{\\theta}_2)$ with all data. Another goal would be to infer the latent variables $\\boldsymbol{z}_i$ pertaining to each data point $\\boldsymbol{x}_i$ for $i=1,\\ldots,N$. This can be accomplished by constructing $i$-specific posterior distributions\n",
    "$$\n",
    "\\pi_\\boldsymbol{\\theta}(\\boldsymbol{z}_i | \\boldsymbol{x}_i) =\n",
    "\\frac{\\pi_\\boldsymbol{\\theta}(\\boldsymbol{x}_i, \\boldsymbol{z}_i)}{\\pi_\\boldsymbol{\\theta}(\\boldsymbol{x}_i)} =\n",
    "\\frac{\\pi_{\\boldsymbol{\\theta}_1}(\\boldsymbol{x}_i | \\boldsymbol{z}_i) \\,\n",
    "\\pi_{\\boldsymbol{\\theta}_2}(\\boldsymbol{z}_i)}{\\pi_\\boldsymbol{\\theta}(\\boldsymbol{x}_i)}.\n",
    "$$\n",
    "Note that the normalizing factor $\\pi_\\boldsymbol{\\theta}(\\boldsymbol{x}_i)$ here is exactly the marginalized likelihood of the latent variable model from above. It is also called the **model evidence** emphasizing its role in model selection."
   ]
  },
  {
   "cell_type": "markdown",
   "id": "a1a76cc1",
   "metadata": {},
   "source": [
    "## Evidence lower bound\n",
    "\n",
    "In order to represent the posterior, one uses a family of distributions $q_\\boldsymbol{\\phi}(\\boldsymbol{z}_i | \\boldsymbol{x}_i)$ with tunable parameters $\\boldsymbol{\\phi}$. The latter can be chosen such that it resembles the actual posterior $q_\\boldsymbol{\\phi}(\\boldsymbol{z}_i | \\boldsymbol{x}_i) \\approx \\pi_\\boldsymbol{\\theta}(\\boldsymbol{z}_i | \\boldsymbol{x}_i)$ in some distributional sense. One now needs a measure the (dis)similarity of two probability densities. To that end, one usually considers the **Kullback-Leibler** (KL) **divergence** from the true posterior to the variational distribution. This so-called relative entropy can be written and decomposed as\n",
    "$$\n",
    "D_\\mathrm{KL} \\left( q_\\boldsymbol{\\phi}(\\cdot | \\boldsymbol{x}_i) \\, \\| \\,\n",
    "\\pi_\\boldsymbol{\\theta}(\\cdot | \\boldsymbol{x}_i) \\right) =\n",
    "\\int q_\\boldsymbol{\\phi}(\\boldsymbol{z}_i | \\boldsymbol{x}_i) \\log \\left(\n",
    "\\frac{q_\\boldsymbol{\\phi}(\\boldsymbol{z}_i | \\boldsymbol{x}_i)}{\\pi_\\boldsymbol{\\theta}\n",
    "(\\boldsymbol{z}_i | \\boldsymbol{x}_i)} \\right) \\, \\mathrm{d} \\boldsymbol{z}_i =\n",
    "\\log \\pi_\\boldsymbol{\\theta}(\\boldsymbol{x}_i) -\n",
    "\\mathcal{F}_{\\boldsymbol{\\theta}, \\boldsymbol{\\phi}}(\\boldsymbol{x}_i).\n",
    "$$\n",
    "The last term $\\mathcal{F}_{\\boldsymbol{\\theta}, \\boldsymbol{\\phi}}(\\boldsymbol{x}_i)$ is called the **free energy** or the **evidence lower bound** (ELBO). It owes its name mentioned second, as a direct consequence of $D_\\mathrm{KL}(q_\\boldsymbol{\\phi}(\\cdot | \\boldsymbol{x}_i) \\, \\| \\, \\pi_\\boldsymbol{\\theta}(\\cdot | \\boldsymbol{x}_i)) \\geq 0$, the fact that $\\log \\pi_\\boldsymbol{\\theta}(\\boldsymbol{x}_i) \\geq \\mathcal{F}_{\\boldsymbol{\\theta}, \\boldsymbol{\\phi}}(\\boldsymbol{x}_i)$. The ELBO is given as\n",
    "$$\n",
    "\\mathcal{F}_{\\boldsymbol{\\theta}, \\boldsymbol{\\phi}}(\\boldsymbol{x}_i) =\n",
    "\\int q_\\boldsymbol{\\phi}(\\boldsymbol{z}_i | \\boldsymbol{x}_i) \\log \\left(\n",
    "\\frac{\\pi_{\\boldsymbol{\\theta}_1}(\\boldsymbol{x}_i | \\boldsymbol{z}_i) \\,\n",
    "\\pi_{\\boldsymbol{\\theta}_2}(\\boldsymbol{z}_i)}{q_\\boldsymbol{\\phi}\n",
    "(\\boldsymbol{z}_i | \\boldsymbol{x}_i)} \\right) \\, \\mathrm{d} \\boldsymbol{z}_i.\n",
    "$$\n",
    "\n",
    "By definition $D_\\mathrm{KL}(q_\\boldsymbol{\\phi}(\\cdot | \\boldsymbol{x}_i) \\, \\| \\, \\pi_\\boldsymbol{\\theta}(\\cdot | \\boldsymbol{x}_i))$ establishes a distance between the posterior and its approximation. Equivalently, as it can be seen above, it represents the difference between the logarithm of the marginalized likelihood and its ELBO.\n",
    "\n",
    "Instead of tackling $N$ $i$-specific problems separately, one can solve them jointly for $i=1,\\ldots,N$. One then has $\\log \\pi_\\boldsymbol{\\theta}(\\mathcal{D}) = \\sum_{i=1}^N \\log \\pi_\\boldsymbol{\\theta}(\\boldsymbol{x}_i)$ with $\\log \\pi_\\boldsymbol{\\theta}(\\boldsymbol{x}_i) = D_\\mathrm{KL}(q_\\boldsymbol{\\phi}(\\cdot | \\boldsymbol{x}_i) \\, \\| \\, \\pi_\\boldsymbol{\\theta}(\\cdot | \\boldsymbol{x}_i)) + \\mathcal{F}_{\\boldsymbol{\\theta}, \\boldsymbol{\\phi}}(\\boldsymbol{x}_i)$. Also, the KL divergence is additive for factorized distributions. Hence, the objective becomes\n",
    "$$\n",
    "(\\hat{\\boldsymbol{\\theta}}, \\hat{\\boldsymbol{\\phi}}) =\n",
    "\\underset{\\boldsymbol{\\theta}, \\boldsymbol{\\phi}}{\\mathrm{argmax}} \\,\n",
    "\\mathcal{F}_{\\boldsymbol{\\theta}, \\boldsymbol{\\phi}}(\\mathcal{D}), \\quad\n",
    "\\mathcal{F}_{\\boldsymbol{\\theta}, \\boldsymbol{\\phi}}(\\mathcal{D}) =\n",
    "\\sum_{i=1}^N \\mathcal{F}_{\\boldsymbol{\\theta}, \\boldsymbol{\\phi}}(\\boldsymbol{x}_i).\n",
    "$$\n",
    "\n",
    "Note that the parametrized variational distribution is conditioned on an individual data point. This is reminiscent of but also somewhat different from classical **variational inference** [[Blei et al., 2018](https://doi.org/10.1080/01621459.2017.1285773)] where posteriors are approximated by $q_\\boldsymbol{\\phi}(\\boldsymbol{z}_i) \\approx \\pi_\\boldsymbol{\\theta}(\\boldsymbol{z}_i | \\boldsymbol{x}_i)$. Essentially, by estimating $\\boldsymbol{\\phi}$ it is here learned how to approximately perform Bayesian inference $q_\\boldsymbol{\\phi}(\\boldsymbol{z}_i | \\boldsymbol{x}_i)$ for any $\\boldsymbol{x}_i$. This is sometimes called **amortized variational inference**. An interesting discussion of the scheme can be found in [[Zhang et al., 2019](https://doi.org/10.1109/TPAMI.2018.2889774)].\n",
    "\n",
    "The maximization of the ELBO with respect to the variational parameters $\\boldsymbol{\\phi}$ improves the **inference model** $q_\\boldsymbol{\\phi}(\\boldsymbol{z}_i | \\boldsymbol{x}_i) \\approx \\pi_\\boldsymbol{\\theta}(\\boldsymbol{z}_i | \\boldsymbol{x}_i)$ in the sense that it better approximates the posterior distribution. If the ELBO is additionally maximized as function of the generative parameters $\\boldsymbol{\\theta}$, one might argue that the model evidence $\\pi_\\boldsymbol{\\theta}(\\boldsymbol{x}_i)$ is approximately maximized. More precisely, a lower bound of it is maximized. That can be understood as an approximate version of model selection, where the **generative model** $\\pi_\\boldsymbol{\\theta}(\\boldsymbol{x}_i, \\boldsymbol{z}_i) = \\pi_{\\boldsymbol{\\theta}_1}(\\boldsymbol{x}_i | \\boldsymbol{z}_i) \\, \\pi_{\\boldsymbol{\\theta}_2}(\\boldsymbol{z}_i)$ is improved. Both of those objectives become apparent from simply writing the ELBO as $\\mathcal{F}_{\\boldsymbol{\\theta}, \\boldsymbol{\\phi}}(\\boldsymbol{x}_i) = \\log \\pi_\\boldsymbol{\\theta}(\\boldsymbol{x}_i) - D_\\mathrm{KL}(q_\\boldsymbol{\\phi}(\\cdot | \\boldsymbol{x}_i) \\, \\| \\, \\pi_\\boldsymbol{\\theta}(\\cdot | \\boldsymbol{x}_i))$."
   ]
  },
  {
   "cell_type": "markdown",
   "id": "0c98199e",
   "metadata": {},
   "source": [
    "## Encoder and decoder\n",
    "\n",
    "It is instructive to decompose the ELBO into a term involving the likelihood function and another term involving the prior distribution. This highlights the fact that Bayesian inference finds a compromise between prior and data. The decomposition is\n",
    "$$\n",
    "\\mathcal{F}_{\\boldsymbol{\\theta}, \\boldsymbol{\\phi}}(\\boldsymbol{x}_i) =\n",
    "\\int q_\\boldsymbol{\\phi}(\\boldsymbol{z}_i | \\boldsymbol{x}_i) \\log \\left(\n",
    "\\pi_{\\boldsymbol{\\theta}_1}(\\boldsymbol{x}_i | \\boldsymbol{z}_i) \\right) \\,\n",
    "\\mathrm{d} \\boldsymbol{z}_i -\n",
    "D_\\mathrm{KL} \\left( q_\\boldsymbol{\\phi}(\\cdot | \\boldsymbol{x}_i) \\, \\| \\,\n",
    "\\pi_{\\boldsymbol{\\theta}_2}(\\cdot) \\right).\n",
    "$$\n",
    "The first term can be also interpreted as a measure of reconstruction quality, while the second one acts as regularizer. This is reminiscent of a classical **autoencoder** and motivates the following terminology. The variational distribution $q_\\boldsymbol{\\phi}(\\boldsymbol{z}_i | \\boldsymbol{x}_i)$ is called the **probabilistic encoder**, whereas the distribution $\\pi_{\\boldsymbol{\\theta}_1}(\\boldsymbol{x}_i | \\boldsymbol{z}_i)$ is commonly referred to as the **probabilistic decoder**.\n",
    "\n",
    "The variational distribution can be parametrized in different ways. A common representation is a Gaussian $q_\\boldsymbol{\\phi}(\\boldsymbol{z}_i | \\boldsymbol{x}_i) = \\mathcal{N}(\\boldsymbol{z}_i \\, | \\, \\boldsymbol{\\mu}_\\boldsymbol{\\phi}(\\boldsymbol{x}_i), \\boldsymbol{\\Sigma}_\\boldsymbol{\\phi}(\\boldsymbol{x}_i))$ whose mean vector $\\boldsymbol{\\mu}_\\boldsymbol{\\phi}(\\boldsymbol{x}_i)$ and covariance matrix $\\boldsymbol{\\Sigma}_\\boldsymbol{\\phi}(\\boldsymbol{x}_i)$ are predicted by a neural network, for example\n",
    "$$\n",
    "q_\\boldsymbol{\\phi}(\\boldsymbol{z}_i | \\boldsymbol{x}_i) =\n",
    "\\mathcal{N} \\left( \\boldsymbol{z}_i \\, | \\, \\boldsymbol{\\mu}_\\boldsymbol{\\phi}(\\boldsymbol{x}_i),\n",
    "\\mathrm{diag} \\left( \\boldsymbol{\\sigma}_\\boldsymbol{\\phi}^{\\odot 2}(\\boldsymbol{x}_i) \\right) \\right) =\n",
    "\\prod_{j=1}^K \\mathcal{N} \\left( z_{i,j} \\, | \\, \\mu_{\\boldsymbol{\\phi},j}(\\boldsymbol{x}_i),\n",
    "\\sigma_{\\boldsymbol{\\phi},j}^2(\\boldsymbol{x}_i) \\right).\n",
    "$$\n",
    "Here, the covariance matrix has the diagonal structure $\\boldsymbol{\\Sigma}_\\boldsymbol{\\phi}(\\boldsymbol{x}_i) = \\mathrm{diag}(\\sigma_{\\boldsymbol{\\phi},1}^2(\\boldsymbol{x}_i), \\ldots, \\sigma_{\\boldsymbol{\\phi},K}^2(\\boldsymbol{x}_i))$. Of course, one can construct more complex non-diagonal representations of the covariance.\n",
    "\n",
    "A deep latent variable model often constitutes the generative part. Take, for instance, a **deep latent Gaussian model** with a Gaussian prior sampling distribution $\\pi(\\boldsymbol{z}_i) = \\mathcal{N}(\\boldsymbol{z}_i | \\boldsymbol{0}, \\boldsymbol{I})$ and another Gaussian $\\pi_\\boldsymbol{\\theta}(\\boldsymbol{x}_i | \\boldsymbol{z}_i) = \\mathcal{N}(\\boldsymbol{x}_i \\, | \\, \\boldsymbol{\\mu}_\\boldsymbol{\\theta}(\\boldsymbol{z}_i), \\boldsymbol{\\Sigma}_\\boldsymbol{\\theta}(\\boldsymbol{z}_i))$ as the conditional distribution. An example is\n",
    "$$\n",
    "\\pi_\\boldsymbol{\\theta}(\\boldsymbol{x}_i | \\boldsymbol{z}_i) =\n",
    "\\mathcal{N} \\left( \\boldsymbol{x}_i \\, | \\, \\boldsymbol{\\mu}_\\boldsymbol{\\theta}(\\boldsymbol{z}_i),\n",
    "\\mathrm{diag} \\left( \\boldsymbol{\\sigma}_\\boldsymbol{\\theta}^{\\odot 2}(\\boldsymbol{z}_i) \\right) \\right) =\n",
    "\\prod_{j=1}^L \\mathcal{N} \\left( x_{i,j} \\, | \\, \\mu_{\\boldsymbol{\\theta},j}(\\boldsymbol{z}_i),\n",
    "\\sigma_{\\boldsymbol{\\theta},j}^2(\\boldsymbol{z}_i) \\right).\n",
    "$$\n",
    "The vector of means and standard deviations is again computed by a neural network. Instead of the representation of the covariance matrix $\\boldsymbol{\\Sigma}_\\boldsymbol{\\theta}(\\boldsymbol{z}_i) = \\mathrm{diag}(\\sigma_{\\boldsymbol{\\theta},1}^2(\\boldsymbol{z}_i), \\ldots, \\sigma_{\\boldsymbol{\\theta},L}^2(\\boldsymbol{z}_i))$, one can choose a simpler model $\\boldsymbol{\\Sigma} = \\sigma^2 \\boldsymbol{I}$ with a constant (fixed or learnable) standard deviation.\n",
    "\n",
    "Similarly, a **deep latent Bernoulli model** can be used for binary data. Here, a neural network predicts the probability of a positive outcome. The conditional model can then be written as\n",
    "$$\n",
    "\\pi_\\boldsymbol{\\theta}(\\boldsymbol{x}_i | \\boldsymbol{z}_i) =\n",
    "\\prod_{j=1}^L \\mathrm{Bernoulli} \\left( x_{i,j} \\, | \\, p_{\\boldsymbol{\\theta},j}(\\boldsymbol{z}_i) \\right).\n",
    "$$\n",
    "It is remarked that likelihoods based on the Bernoulli distribution should be only used for $\\{0,1\\}$-valued data [[Loaiza-Ganem and Cunningham, 2019](https://papers.nips.cc/paper/2019/hash/f82798ec8909d23e55679ee26bb26437-Abstract.html), [Yong et al, 2020](http://www.gatsby.ucl.ac.uk/~balaji/udl2020/accepted-papers/UDL2020-paper-063.pdf)]. Despite that, it is sometimes used for nearly binary data sets such as MNIST with continuous pixel intensities in $[0,1]$.\n",
    "\n",
    "All in all, we have realized that the VAE actually solves several related problems. As for the generative modeling part, the parameters $\\boldsymbol{\\theta}$ of a generative model $\\pi_\\boldsymbol{\\theta}(\\boldsymbol{x}_i, \\boldsymbol{z}_i) = \\pi_{\\boldsymbol{\\theta}_1}(\\boldsymbol{x}_i | \\boldsymbol{z}_i) \\, \\pi_{\\boldsymbol{\\theta}_2}(\\boldsymbol{z}_i)$ are inferred. At the same time, the parameters $\\boldsymbol{\\phi}$ of an inference model $q_\\boldsymbol{\\phi}(\\boldsymbol{z}_i | \\boldsymbol{x}_i) \\approx \\pi_\\boldsymbol{\\theta}(\\boldsymbol{z}_i | \\boldsymbol{x}_i)$ approximating the posterior distribution are estimated. The inference model corresponds to the jointly learned generator. In addition, an autoencoder-like latent representation or code $\\boldsymbol{z}_i$ of the original data $\\boldsymbol{x}_i$ has emerged."
   ]
  },
  {
   "cell_type": "markdown",
   "id": "2de8534d",
   "metadata": {},
   "source": [
    "## Posterior collapse\n",
    "\n",
    "A number of phenomena where the posterior $q_\\boldsymbol{\\phi}(\\boldsymbol{z}_i | \\boldsymbol{x}_i) \\approx \\pi_{\\boldsymbol{\\theta}_2}(\\boldsymbol{z}_i)$ merely approximates the prior, at least for some dimensions of $\\boldsymbol{z}_i$, are sometimes referred to as **posterior collapse**. Several modes of such a collapse in VAE architectures have been discussed in the literature [[Chen et al., 2017](https://openreview.net/forum?id=BysvGP5ee), [Mattei and Frellsen, 2018](https://papers.nips.cc/paper/2018/hash/0609154fa35b3194026346c9cac2a248-Abstract.html), [Lucas et al., 2019](https://papers.nips.cc/paper/2019/hash/7e3315fe390974fcf25e44a9445bd821-Abstract.html), [Dai et al., 2020](http://proceedings.mlr.press/v119/dai20c.html)]. They can be understood through an investigation of the \"balance\" between the likelihood and KL terms in $\\mathcal{F}_{\\boldsymbol{\\theta}, \\boldsymbol{\\phi}}(\\boldsymbol{x}_i) = \\int q_\\boldsymbol{\\phi}(\\boldsymbol{z}_i | \\boldsymbol{x}_i) \\log(\\pi_{\\boldsymbol{\\theta}_1}(\\boldsymbol{x}_i | \\boldsymbol{z}_i)) \\, \\mathrm{d} \\boldsymbol{z}_i - D_\\mathrm{KL}(q_\\boldsymbol{\\phi}(\\cdot | \\boldsymbol{x}_i) \\, \\| \\, \\pi_{\\boldsymbol{\\theta}_2}(\\cdot))$.\n",
    "\n",
    "Some forms of posterior collapse are related to the choice of the covariance model of the decoder $\\pi_{\\boldsymbol{\\theta}_1}(\\boldsymbol{x}_i | \\boldsymbol{z}_i) = \\mathcal{N}(\\boldsymbol{x}_i \\, | \\, \\boldsymbol{\\mu}_{\\boldsymbol{\\theta}_1}(\\boldsymbol{z}_i), \\boldsymbol{\\Sigma}_{\\boldsymbol{\\theta}_1}(\\boldsymbol{z}_i))$. A simple representation of the covariance matrix as $\\boldsymbol{\\Sigma} = \\sigma^2 \\boldsymbol{I}$ with a constant and too large value of the variance $\\sigma^2$ would result in a dominance of the KL term $D_\\mathrm{KL}(q_\\boldsymbol{\\phi}(\\cdot | \\boldsymbol{x}_i) \\, \\| \\, \\pi_{\\boldsymbol{\\theta}_2}(\\cdot))$ and eventually encourage the posterior to equal the prior.\n",
    "\n",
    "For expressive models that represent the covariance as a function $\\boldsymbol{\\Sigma}_\\boldsymbol{\\theta}(\\boldsymbol{z}_i) = \\mathrm{diag}(\\sigma_{\\boldsymbol{\\theta},1}^2(\\boldsymbol{z}_i), \\ldots, \\sigma_{\\boldsymbol{\\theta},L}^2(\\boldsymbol{z}_i))$, if one would have $x_{i,j} \\approx \\mu_{\\boldsymbol{\\theta},j}(\\boldsymbol{z}_i)$, the likelihood could be arbitrarily maximized by decreasing the variance $\\sigma_{\\boldsymbol{\\theta},j}^2(\\boldsymbol{z}_i)$. As a consequence of this collapse of the likelihood around a data point, the model does not necessarily learn anything useful beyond that point.\n",
    "\n",
    "Another reported form of posterior collapse might happen in case that powerful decoders $\\pi_{\\boldsymbol{\\theta}_1}(\\boldsymbol{x}_i | \\boldsymbol{z}_i)$ are used. They typically do not have the simple Gaussian structure discussed above, but an autoregressive form of dependencies for example. If such a representation is expressive enough to assign a high value to the data point $\\boldsymbol{x}_i$ without utilizing the latent variables $\\boldsymbol{z}_i$, the posterior collapses to the prior as per Bayes' law."
   ]
  },
  {
   "cell_type": "markdown",
   "id": "ac1d45a0",
   "metadata": {},
   "source": [
    "## Stochastic optimization\n",
    "\n",
    "For a practical solution of the stochastic optimization problem that arises, the ELBO $\\mathcal{F}_{\\boldsymbol{\\theta}, \\boldsymbol{\\phi}}(\\boldsymbol{x}_i)$ or its gradient $\\nabla_{\\boldsymbol{\\theta}, \\boldsymbol{\\phi}} \\mathcal{F}_{\\boldsymbol{\\theta}, \\boldsymbol{\\phi}}(\\boldsymbol{x}_i)$ with respect to the parameters of the probabilistic decoder and encoder need to be evaluated. To that end, one may start from one the following two equivalent ways of writing the optimization objective as an expected value\n",
    "$$\n",
    "\\mathcal{F}_{\\boldsymbol{\\theta}, \\boldsymbol{\\phi}}(\\boldsymbol{x}_i) =\n",
    "\\mathbb{E}_{q_\\boldsymbol{\\phi}(\\cdot | \\boldsymbol{x}_i)} \\left[ \\log \\left(\n",
    "\\pi_\\boldsymbol{\\theta}(\\boldsymbol{x}_i, \\boldsymbol{Z}_i) \\right) -\n",
    "q_\\boldsymbol{\\phi} (\\boldsymbol{Z}_i | \\boldsymbol{x}_i) \\right] =\n",
    "\\mathbb{E}_{q_\\boldsymbol{\\phi}(\\cdot | \\boldsymbol{x}_i)} \\left[ \\log \\left(\n",
    "\\pi_{\\boldsymbol{\\theta}_1}(\\boldsymbol{x}_i | \\boldsymbol{Z}_i) \\right) \\right] -\n",
    "D_\\mathrm{KL} \\left( q_\\boldsymbol{\\phi}(\\cdot | \\boldsymbol{x}_i) \\, \\| \\,\n",
    "\\pi_{\\boldsymbol{\\theta}_2}(\\cdot) \\right).\n",
    "$$\n",
    "\n",
    "The second way is beneficial if the KL term $D_\\mathrm{KL}(q_\\boldsymbol{\\phi}(\\cdot | \\boldsymbol{x}_i) \\, \\| \\, \\pi_{\\boldsymbol{\\theta}_2}(\\cdot))$ can be evaluated analytically, which happens for instance if both distributions are Gaussian. In the simplest case that $\\pi_{\\boldsymbol{\\theta}_2}(\\cdot) = \\mathcal{N}(\\boldsymbol{0}, \\boldsymbol{I})$ and $q_\\boldsymbol{\\phi}(\\cdot | \\boldsymbol{x}_i) = \\mathcal{N}((\\mu_{\\boldsymbol{\\phi},1}(\\boldsymbol{x}_i),\\ldots,\\mu_{\\boldsymbol{\\phi},K}(\\boldsymbol{x}_i)), \\mathrm{diag}(\\sigma_{\\boldsymbol{\\phi},1}^2(\\boldsymbol{x}_i),\\ldots,\\sigma_{\\boldsymbol{\\phi},K}^2(\\boldsymbol{x}_i)))$, one has\n",
    "$$\n",
    "D_\\mathrm{KL} \\left( \\mathcal{N}((\\mu_1, \\ldots, \\mu_K),\n",
    "\\mathrm{diag}(\\sigma_1^2, \\ldots, \\sigma_K^2)) \\, \\| \\,\n",
    "\\mathcal{N}(\\boldsymbol{0}, \\boldsymbol{I}) \\right) =\n",
    "\\frac{1}{2} \\sum_{j=1}^K \\left( \\mu_j^2 + \\sigma_j^2 -\n",
    "\\log \\sigma_j^2 - 1 \\right).\n",
    "$$\n",
    "\n",
    "The likelihood term $\\mathbb{E}_{q_\\boldsymbol{\\phi}(\\cdot | \\boldsymbol{x}_i)}[\\log(\\pi_{\\boldsymbol{\\theta}_1}(\\boldsymbol{x}_i | \\boldsymbol{Z}_i))]$ turns out to be more involved. It has to be simulated via Monte Carlo sampling in most practical situations. Given samples $\\boldsymbol{z}_i^{(t)} \\sim q_\\boldsymbol{\\phi}(\\cdot | \\boldsymbol{x}_i)$ for $t=1,\\ldots,T$ from the variational distribution, the likelihood term can be estimated as\n",
    "$$\n",
    "\\mathbb{E}_{q_\\boldsymbol{\\phi}(\\cdot | \\boldsymbol{x}_i)} \\left[ \\log \\left(\n",
    "\\pi_{\\boldsymbol{\\theta}_1}(\\boldsymbol{x}_i | \\boldsymbol{Z}_i) \\right) \\right]\n",
    "\\approx \\frac{1}{T} \\sum_{t=1}^T \\log \\left(\n",
    "\\pi_{\\boldsymbol{\\theta}_1}(\\boldsymbol{x}_i | \\boldsymbol{z}_i^{(t)}) \\right).\n",
    "$$\n",
    "Due to their wide applicability, such sampling-based approaches are also called **black box variational inference** [[Ranganath et al., 2014](http://proceedings.mlr.press/v33/ranganath14.html)]. A special case of such a scheme uses only a single sample $T=1$ in order to estimate the likelihood term as $\\mathbb{E}_{q_\\boldsymbol{\\phi}(\\cdot | \\boldsymbol{x}_i)}[\\log(\\pi_{\\boldsymbol{\\theta}_1}(\\boldsymbol{x}_i | \\boldsymbol{Z}_i))] \\approx \\log(\\pi_{\\boldsymbol{\\theta}_1}(\\boldsymbol{x}_i | \\boldsymbol{z}_i^{(1)}))$.\n",
    "\n",
    "At this point, the sampling efficiency of the Monte Carlo approach needs to be discussed briefly. Since the variational distribution $q_\\boldsymbol{\\phi}(\\cdot | \\boldsymbol{x}_i)$ for estimating the term $\\int q_\\boldsymbol{\\phi}(\\boldsymbol{z}_i | \\boldsymbol{x}_i) \\log(\\pi_{\\boldsymbol{\\theta}_1}(\\boldsymbol{x}_i | \\boldsymbol{z}_i)) \\, \\mathrm{d} \\boldsymbol{z}_i$ is expected to better and better approximate the posterior during training, sampling from it produces high-likelihood samples. Such latent values have likely generated the data point under the generative model. This is significantly more efficient than sampling from the prior distribution $\\pi_{\\boldsymbol{\\theta}_2}(\\cdot)$, typically yielding low-likelihood samples, in order to estimate the marginal likelihood $\\pi_\\boldsymbol{\\theta}(\\boldsymbol{x}_i) = \\int \\pi_{\\boldsymbol{\\theta}_1}(\\boldsymbol{x}_i | \\boldsymbol{z}_i) \\, \\pi_{\\boldsymbol{\\theta}_2}(\\boldsymbol{z}_i) \\, \\mathrm{d} \\boldsymbol{z}_i$.\n",
    "\n",
    "While the gradient $\\nabla_\\boldsymbol{\\theta} \\mathcal{F}_{\\boldsymbol{\\theta}, \\boldsymbol{\\phi}}(\\boldsymbol{x}_i)$ can be estimated by using a sampling strategy, it does not work so easily for $\\nabla_\\boldsymbol{\\phi} \\mathcal{F}_{\\boldsymbol{\\theta}, \\boldsymbol{\\phi}}(\\boldsymbol{x}_i)$. The reason is that one can readily use $\\nabla_{\\boldsymbol{\\theta}_1} \\mathbb{E}_{q_\\boldsymbol{\\phi}(\\cdot | \\boldsymbol{x}_i)}[\\log(\\pi_{\\boldsymbol{\\theta}_1}(\\boldsymbol{x}_i | \\boldsymbol{Z}_i))] = \\mathbb{E}_{q_\\boldsymbol{\\phi}(\\cdot | \\boldsymbol{x}_i)}[\\nabla_{\\boldsymbol{\\theta}_1} \\log(\\pi_{\\boldsymbol{\\theta}_1}(\\boldsymbol{x}_i | \\boldsymbol{Z}_i))] \\approx T^{-1} \\sum_t \\nabla_{\\boldsymbol{\\theta}_1} \\log(\\pi_{\\boldsymbol{\\theta}_1}(\\boldsymbol{x}_i | \\boldsymbol{z}_i^{(t)}))$, whereas it is not immediately clear how one should proceed with $\\nabla_\\boldsymbol{\\phi} \\mathbb{E}_{q_\\boldsymbol{\\phi}(\\cdot | \\boldsymbol{x}_i)}[\\log(\\pi_{\\boldsymbol{\\theta}_1}(\\boldsymbol{x}_i | \\boldsymbol{Z}_i))] = \\int \\log(\\pi_{\\boldsymbol{\\theta}_1}(\\boldsymbol{x}_i | \\boldsymbol{z}_i)) \\, \\nabla_\\boldsymbol{\\phi} q_\\boldsymbol{\\phi}(\\boldsymbol{z}_i | \\boldsymbol{x}_i) \\, \\mathrm{d} \\boldsymbol{z}_i$. Here, the gradient occurs with respect to a distributional parameter of the expectation. The latter integral does not have the mathematical form of an expectation.\n",
    "\n",
    "A review of noisy gradient estimation for stochastic optimization is provided in [[Mohamed et al., 2020](https://jmlr.org/papers/v21/19-346.html)]. The so-called **score function estimator** is unbiased but typically has a high variance. A better alternative is often the **reparametrization trick**. Here, one introduces an auxiliary random variable $\\boldsymbol{\\mathcal{E}}_i \\sim p$ following a simple distribution and a random variable transformation with $\\boldsymbol{Z}_i = g_\\boldsymbol{\\phi}(\\boldsymbol{\\mathcal{E}}_i, \\boldsymbol{x}_i) \\sim q_\\boldsymbol{\\phi}(\\cdot | \\boldsymbol{x}_i)$. One can then write\n",
    "$$\n",
    "\\mathbb{E}_{q_\\boldsymbol{\\phi}(\\cdot | \\boldsymbol{x}_i)} \\left[ \\log \\left(\n",
    "\\pi_{\\boldsymbol{\\theta}_1}(\\boldsymbol{x}_i | \\boldsymbol{Z}_i) \\right) \\right] =\n",
    "\\mathbb{E}_p \\left[ \\log \\left( \\pi_{\\boldsymbol{\\theta}_1}(\\boldsymbol{x}_i |\n",
    "g_\\boldsymbol{\\phi}(\\boldsymbol{\\mathcal{E}}_i, \\boldsymbol{x}_i)) \\right) \\right].\n",
    "$$\n",
    "\n",
    "This follows from the law of the unconscious statistician. Now the expectation is taken with respect to a fixed base distribution. It therefore commutes with the gradient operator such that one can approximate the required gradient through Monte Carlo sampling\n",
    "$$\n",
    "\\nabla_{\\boldsymbol{\\theta}_1, \\boldsymbol{\\phi}}\n",
    "\\mathbb{E}_p \\left[ \\log \\left( \\pi_{\\boldsymbol{\\theta}_1}(\\boldsymbol{x}_i |\n",
    "g_\\boldsymbol{\\phi}(\\boldsymbol{\\mathcal{E}}_i, \\boldsymbol{x}_i)) \\right) \\right] =\n",
    "\\mathbb{E}_p \\left[ \\nabla_{\\boldsymbol{\\theta}_1, \\boldsymbol{\\phi}}\n",
    "\\log \\left( \\pi_{\\boldsymbol{\\theta}_1}(\\boldsymbol{x}_i |\n",
    "g_\\boldsymbol{\\phi}(\\boldsymbol{\\mathcal{E}}_i, \\boldsymbol{x}_i)) \\right) \\right] \\approx\n",
    "\\frac{1}{T} \\sum_{t=1}^T \\nabla_{\\boldsymbol{\\theta}_1, \\boldsymbol{\\phi}}\n",
    "\\log \\left( \\pi_{\\boldsymbol{\\theta}_1}(\\boldsymbol{x}_i |\n",
    "g_\\boldsymbol{\\phi}(\\boldsymbol{\\epsilon}_i^{(t)}, \\boldsymbol{x}_i)) \\right).\n",
    "$$\n",
    "The samples $\\boldsymbol{\\epsilon}_i^{(t)} \\sim p$ are drawn from the base distribution for $t=1,\\ldots,T$. In case that the base is $p = \\mathcal{N}(\\boldsymbol{0}, \\boldsymbol{I})$ and the variational distribution is $q_\\boldsymbol{\\phi}(\\cdot | \\boldsymbol{x}_i) = \\mathcal{N}(\\boldsymbol{\\mu}_\\boldsymbol{\\phi}(\\boldsymbol{x}_i), \\mathrm{diag}(\\boldsymbol{\\sigma}_\\boldsymbol{\\phi}^{\\odot 2}(\\boldsymbol{x}_i)))$, the reparametrization is appealingly simple. It is just given as\n",
    "$$\n",
    "\\boldsymbol{z}_i^{(t)} = g_\\boldsymbol{\\phi}(\\boldsymbol{\\epsilon}_i^{(t)}, \\boldsymbol{x}_i) =\n",
    "\\boldsymbol{\\mu}_\\boldsymbol{\\phi}(\\boldsymbol{x}_i) +\n",
    "\\boldsymbol{\\sigma}_\\boldsymbol{\\phi}(\\boldsymbol{x}_i) \\odot \\boldsymbol{\\epsilon}_i^{(t)}.\n",
    "$$\n",
    "\n",
    "Eventually, one has an estimator of the ELBO gradient based on Monte Carlo simulation at hand. This noisy gradient can be used in conjunction with all available backpropagation-based optimization schemes to maximize the ELBO."
   ]
  },
  {
   "cell_type": "markdown",
   "id": "16b9772d",
   "metadata": {},
   "source": [
    "## Demonstration\n",
    "\n",
    "After this abstract introduction, it is time for a real demonstration. We therefore apply a Bernoulli VAE to binarized MNIST images. PyTorch is used as a deep learning library. The quality of the VAE to encode/decode for data compression and generation purposes is investigated. Two different neural network architectures, namely with fully connected and convolutional layers, are experimented with."
   ]
  },
  {
   "cell_type": "code",
   "execution_count": 1,
   "id": "5e244cfb",
   "metadata": {},
   "outputs": [],
   "source": [
    "%matplotlib inline"
   ]
  },
  {
   "cell_type": "code",
   "execution_count": 2,
   "id": "9e781632",
   "metadata": {},
   "outputs": [],
   "source": [
    "import pathlib\n",
    "import numpy as np\n",
    "import matplotlib.pyplot as plt\n",
    "import torch\n",
    "import torch.nn as nn\n",
    "import torch.distributions as dist\n",
    "from torch.utils.data import DataLoader\n",
    "from torchvision import datasets, transforms"
   ]
  },
  {
   "cell_type": "markdown",
   "id": "39048686",
   "metadata": {},
   "source": [
    "### MNIST data\n",
    "\n",
    "It is started by importing the MNIST data set. Since, as we have previously discussed, the Bernoulli likelihood strictly speaking requires binary-valued data, the images are binarized as part of the preprocessing. Standard PyTorch `Dataset`s and `DataLoader`s generate mini-batches of data during training and inference. Of course, it would be possible to use random digit-preserving image transformations for data augmentation."
   ]
  },
  {
   "cell_type": "code",
   "execution_count": 3,
   "id": "fbcb2f60-1fd2-41b6-9655-ba5ebfa39ec7",
   "metadata": {},
   "outputs": [],
   "source": [
    "preprocessor = transforms.Compose([\n",
    "    transforms.ToTensor(),\n",
    "    lambda x: torch.where(x > 0.5, 1, 0).float()\n",
    "])"
   ]
  },
  {
   "cell_type": "code",
   "execution_count": 4,
   "id": "3fc9c9bc",
   "metadata": {},
   "outputs": [
    {
     "name": "stdout",
     "output_type": "stream",
     "text": [
      "No. train images: 60000\n",
      "No. test images: 10000\n"
     ]
    }
   ],
   "source": [
    "data_path = pathlib.Path.home() / 'Data'\n",
    "train_set = datasets.MNIST(data_path,\n",
    "                           train=True,\n",
    "                           transform=preprocessor,\n",
    "                           download=True)\n",
    "test_set = datasets.MNIST(data_path,\n",
    "                          train=False,\n",
    "                          transform=preprocessor,\n",
    "                          download=True)\n",
    "print('No. train images:', len(train_set))\n",
    "print('No. test images:', len(test_set))"
   ]
  },
  {
   "cell_type": "code",
   "execution_count": 5,
   "id": "736d9f10",
   "metadata": {},
   "outputs": [
    {
     "name": "stdout",
     "output_type": "stream",
     "text": [
      "No. train batches: 938\n",
      "No. test batches: 79\n"
     ]
    }
   ],
   "source": [
    "train_batch_size = 64\n",
    "test_batch_size = 128\n",
    "train_loader = DataLoader(train_set,\n",
    "                          batch_size=train_batch_size,\n",
    "                          shuffle=True)\n",
    "test_loader = DataLoader(test_set,\n",
    "                         batch_size=test_batch_size,\n",
    "                         shuffle=True)\n",
    "print('No. train batches:', len(train_loader))\n",
    "print('No. test batches:', len(test_loader))"
   ]
  },
  {
   "cell_type": "code",
   "execution_count": 6,
   "id": "ff961c05",
   "metadata": {},
   "outputs": [
    {
     "name": "stdout",
     "output_type": "stream",
     "text": [
      "Images shape: torch.Size([64, 1, 28, 28])\n",
      "Labels shape: torch.Size([64])\n"
     ]
    }
   ],
   "source": [
    "images, labels = next(iter(train_loader))\n",
    "print('Images shape:', images.shape)\n",
    "print('Labels shape:', labels.shape)"
   ]
  },
  {
   "cell_type": "code",
   "execution_count": 7,
   "id": "aa2ef4a6",
   "metadata": {},
   "outputs": [
    {
     "data": {
      "image/png": "[encoded data removed]",
      "text/plain": [
       "<Figure size 360x216 with 8 Axes>"
      ]
     },
     "metadata": {},
     "output_type": "display_data"
    }
   ],
   "source": [
    "fig, axes = plt.subplots(nrows=2, ncols=4, figsize=(5,3))\n",
    "for idx, ax in enumerate(axes.ravel()):\n",
    "    image = images[idx,0].numpy()\n",
    "    ax.imshow(image.clip(0,1), cmap='gray')\n",
    "    ax.set_title(train_set.classes[labels[idx]])\n",
    "    ax.set(xticks=[], yticks=[], xlabel='', ylabel='')\n",
    "fig.tight_layout()\n",
    "fig.show()"
   ]
  },
  {
   "cell_type": "markdown",
   "id": "d05af819",
   "metadata": {},
   "source": [
    "### Bernoulli VAE\n",
    "\n",
    "A VAE scheme for Bernoulli likelihoods is implemented in the class `BernoulliVAE`. It is essentially a wrapper for suitable encoder and decoder models and provides methods for training and inference. The construction as a wrapper class allows for flexibly experimenting with different architectures. This includes the fully connected and convolutional neural network encoders/decoders that are defined shortly afterwards."
   ]
  },
  {
   "cell_type": "code",
   "execution_count": 8,
   "id": "2655ebbd",
   "metadata": {},
   "outputs": [],
   "source": [
    "class BernoulliVAE():\n",
    "    '''\n",
    "    Variational autoencoder with Bernoulli likelihoods.\n",
    "\n",
    "    Summary\n",
    "    -------\n",
    "    This class establishes a Bernoulli VAE scheme.\n",
    "    It is initialized with an encoder and decoder model.\n",
    "    The encoder represents the variational distribution\n",
    "    of the latent variables as a diagonal Gaussian.\n",
    "    It predicts means and logarithms of standard deviations.\n",
    "    The decoder realizes a multivariate Bernoulli distribution\n",
    "    over the data space, which also defines the likelihood.\n",
    "    It predicts the corresponding logits to that end.\n",
    "\n",
    "    Parameters\n",
    "    ----------\n",
    "    encoder : PyTorch module\n",
    "        Encoder model predicting means and\n",
    "        logarithms of standard deviations.\n",
    "    decoder : PyTorch module\n",
    "        Decoder model predicting Bernoulli logits.\n",
    "    device : PyTorch device\n",
    "        Device the computations are performed on.\n",
    "\n",
    "    '''\n",
    "\n",
    "    def __init__(self, encoder, decoder, device=None):\n",
    "        self.encoder = encoder\n",
    "        self.decoder = decoder\n",
    "        if device is None:\n",
    "            self.device = torch.device('cuda:0' if torch.cuda.is_available() else 'cpu')\n",
    "        else:\n",
    "            self.device = device\n",
    "        self.encoder = self.encoder.to(self.device)\n",
    "        self.decoder = self.decoder.to(self.device)\n",
    "        self.sampling = True\n",
    "        self.epoch = 0\n",
    "\n",
    "    def sample(self, sample_mode=True):\n",
    "        '''Set sampling mode.'''\n",
    "        self.sampling = sample_mode\n",
    "\n",
    "    def train(self, train_mode=True):\n",
    "        '''Set training mode.'''\n",
    "        self.encoder.train(train_mode)\n",
    "        self.decoder.train(train_mode)\n",
    "        if train_mode:\n",
    "            self.sample(True)\n",
    "\n",
    "    def encode(self, X):\n",
    "        '''Encode the input variables.'''\n",
    "        mu, logsigma = self.encoder(X)\n",
    "        return mu, logsigma\n",
    "\n",
    "    def reparametrize(self, mu, logsigma):\n",
    "        '''Sample the latent variables.'''\n",
    "        if self.sampling:\n",
    "            sigma = torch.exp(logsigma)\n",
    "            eps = torch.randn_like(sigma)\n",
    "            z = mu + sigma * eps\n",
    "        else:\n",
    "            z = mu\n",
    "        return z\n",
    "\n",
    "    def decode(self, z):\n",
    "        '''Decode the latent variables.'''\n",
    "        logits = self.decoder(z)\n",
    "        return logits\n",
    "\n",
    "    def __call__(self, X):\n",
    "        '''Encode, sample, decode.'''\n",
    "        mu, logsigma = self.encode(X)\n",
    "        z = self.reparametrize(mu, logsigma)\n",
    "        logits = self.decode(z)\n",
    "        probs = torch.sigmoid(logits)\n",
    "        return probs\n",
    "\n",
    "    def kl(self, mu, logsigma):\n",
    "        '''Compute the KL divergence.'''\n",
    "        kl = 0.5 * torch.sum(mu**2 + torch.exp(logsigma)**2 - 2*logsigma - 1,\n",
    "                             dim=[i for i in range(1, mu.ndim)]) # sum over data dimensions (all but batch)\n",
    "        return kl\n",
    "\n",
    "    def ll(self, X_logits, X):\n",
    "        '''Compute the log-likelihood.'''\n",
    "        # ll = torch.sum(-nn.functional.binary_cross_entropy_with_logits(X_logits, X, reduction='none'),\n",
    "        #                dim=[_ for _ in range(1, X.ndim)])\n",
    "        ll = torch.sum(dist.Bernoulli(logits=X_logits).log_prob(X.float()),\n",
    "                       dim=[_ for _ in range(1, X.ndim)]) # sum over data dimensions (all but batch)\n",
    "        return ll\n",
    "\n",
    "    def elbo(self, X, no_samples=1):\n",
    "        '''Estimate the ELBO objective.'''\n",
    "        mu, logsigma = self.encode(X)\n",
    "        kl = self.kl(mu, logsigma)\n",
    "        ll = torch.zeros_like(kl)\n",
    "        for _ in range(no_samples):\n",
    "            z_sample = self.reparametrize(mu, logsigma)\n",
    "            X_logits = self.decode(z_sample)\n",
    "            ll += self.ll(X_logits, X)\n",
    "        ll /= no_samples\n",
    "        elbo = torch.mean(ll - kl) # mean over data points (only batch dimension)\n",
    "        return elbo\n",
    "\n",
    "    def loss(self, X, no_samples=1):\n",
    "        '''Estimate the negative-ELBO loss.'''\n",
    "        loss = -self.elbo(X, no_samples)\n",
    "        return loss\n",
    "\n",
    "    def compile_for_training(self, optimizer, train_loader, test_loader=None):\n",
    "        '''Compile for training.'''\n",
    "        self.optimizer = optimizer\n",
    "        self.train_loader = train_loader\n",
    "        self.test_loader = test_loader\n",
    "\n",
    "    def training(self, no_epochs, no_samples=1, log_interval=None, initial_test=True):\n",
    "        '''Perform a number of training epochs.'''\n",
    "        train_losses = []\n",
    "        test_losses = []\n",
    "        if initial_test:\n",
    "            train_loss = self.test_loss(self.train_loader, no_samples, all_batches=False)\n",
    "            test_loss = self.test_loss(self.test_loader, no_samples, all_batches=False)\n",
    "            train_losses.append(train_loss)\n",
    "            test_losses.append(test_loss)\n",
    "            print('Started training: {}, test loss: {:.4e}' \\\n",
    "                  .format(self.epoch, test_loss))\n",
    "        for epoch_idx in range(no_epochs):\n",
    "            train_loss = self.train_epoch(no_samples, log_interval)\n",
    "            train_losses.append(train_loss)\n",
    "            self.epoch += 1\n",
    "            if self.test_loader is not None:\n",
    "                test_loss = self.test_loss(no_samples=no_samples, all_batches=False)\n",
    "                test_losses.append(test_loss)\n",
    "                print('Finished epoch: {}, test loss: {:.4e}' \\\n",
    "                      .format(self.epoch, test_loss))\n",
    "        history = {'no_epochs': no_epochs,\n",
    "                   'train_loss': train_losses,\n",
    "                   'test_loss': test_losses}\n",
    "        return history\n",
    "\n",
    "    def train_epoch(self, no_samples=1, log_interval=None):\n",
    "        '''Perform a single training epoch.'''\n",
    "        self.sample(True)\n",
    "        self.train(True)\n",
    "        batch_losses = []\n",
    "        for batch_idx, (X_batch, _) in enumerate(self.train_loader):\n",
    "            X_batch = X_batch.to(self.device)\n",
    "            self.optimizer.zero_grad()\n",
    "            loss = self.loss(X_batch, no_samples=no_samples)\n",
    "            loss.backward()\n",
    "            self.optimizer.step()\n",
    "            batch_loss = loss.data.item()\n",
    "            batch_losses.append(batch_loss)\n",
    "            if len(batch_losses) < 3:\n",
    "                running_loss = batch_loss\n",
    "            else:\n",
    "                running_loss = sum(batch_losses[-3:]) / 3\n",
    "            if log_interval is not None:\n",
    "                if (batch_idx+1) % log_interval == 0 or (batch_idx+1) == len(self.train_loader):\n",
    "                    print('Epoch: {} ({}/{}), batch loss: {:.4e}, running loss: {:.4e}' \\\n",
    "                          .format(self.epoch+1, batch_idx+1, len(self.train_loader), batch_loss, running_loss))\n",
    "        return running_loss\n",
    "\n",
    "    def test_loss(self, test_loader=None, no_samples=1, all_batches=False):\n",
    "        '''Compute loss over a test set.'''\n",
    "        if test_loader is None:\n",
    "            test_loader = self.test_loader\n",
    "        self.sample(True)\n",
    "        self.train(False)\n",
    "        with torch.no_grad():\n",
    "            if all_batches: # all batches\n",
    "                test_loss = 0.0\n",
    "                for X_batch, _ in test_loader:\n",
    "                    X_batch = X_batch.to(self.device)\n",
    "                    loss = self.loss(X_batch, no_samples=no_samples)\n",
    "                    test_loss += loss.data.item()\n",
    "            else: # only one batch\n",
    "                X_batch, _ = next(iter(test_loader))\n",
    "                X_batch = X_batch.to(self.device)\n",
    "                loss = self.loss(X_batch, no_samples=no_samples)\n",
    "                test_loss = loss.data.item()\n",
    "        return test_loss"
   ]
  },
  {
   "cell_type": "markdown",
   "id": "1e09e336",
   "metadata": {},
   "source": [
    "### Fully connected encoder/decoder\n",
    "\n",
    "Exemplary encoder/decoder architectures for MNIST are constructed below. The two simple neural networks `DenseEncoder` and `DenseDecoder` have four fully connected layers each. The number of neurons in each layer can be freely chosen. Nonlinear ReLU activation functions are used where appropriate. The images are flattened when being passed to the encoder and reshaped to the original resolution by the decoder."
   ]
  },
  {
   "cell_type": "code",
   "execution_count": 9,
   "id": "0b4cb27d",
   "metadata": {},
   "outputs": [],
   "source": [
    "class DenseEncoder(nn.Module):\n",
    "    '''Fully connected encoder.'''\n",
    "\n",
    "    def __init__(self,\n",
    "                 no_hidden1,\n",
    "                 no_hidden2,\n",
    "                 no_hidden3,\n",
    "                 no_latent):\n",
    "        super().__init__()\n",
    "        self.fc1 = nn.Linear(784, no_hidden1)\n",
    "        self.fc2 = nn.Linear(no_hidden1, no_hidden2)\n",
    "        self.fc3 = nn.Linear(no_hidden2, no_hidden3)\n",
    "        self.fc41 = nn.Linear(no_hidden3, no_latent)\n",
    "        self.fc42 = nn.Linear(no_hidden3, no_latent)\n",
    "\n",
    "    def forward(self, x):\n",
    "        x = torch.flatten(x, start_dim=1)\n",
    "        x = nn.functional.leaky_relu(self.fc1(x))\n",
    "        x = nn.functional.leaky_relu(self.fc2(x))\n",
    "        x = nn.functional.leaky_relu(self.fc3(x))\n",
    "        mu = self.fc41(x)\n",
    "        logsigma = self.fc42(x)\n",
    "        return mu, logsigma\n",
    "\n",
    "class DenseDecoder(nn.Module):\n",
    "    '''Fully connected decoder.'''\n",
    "\n",
    "    def __init__(self,\n",
    "                 no_latent,\n",
    "                 no_hidden1,\n",
    "                 no_hidden2,\n",
    "                 no_hidden3):\n",
    "        super().__init__()\n",
    "        self.fc1 = nn.Linear(no_latent, no_hidden1)\n",
    "        self.fc2 = nn.Linear(no_hidden1, no_hidden2)\n",
    "        self.fc3 = nn.Linear(no_hidden2, no_hidden3)\n",
    "        self.fc4 = nn.Linear(no_hidden3, 784)\n",
    "\n",
    "    def forward(self, x):\n",
    "        x = nn.functional.leaky_relu(self.fc1(x))\n",
    "        x = nn.functional.leaky_relu(self.fc2(x))\n",
    "        x = nn.functional.leaky_relu(self.fc3(x))\n",
    "        x = self.fc4(x)\n",
    "        x = x.view(-1, 1, 28, 28)\n",
    "        return x"
   ]
  },
  {
   "cell_type": "markdown",
   "id": "248019be",
   "metadata": {},
   "source": [
    "### Convolutional encoder/decoder\n",
    "\n",
    "As an alternative, `ConvEncoder` and `ConvDecoder` feature convolutional layers in addition to fully connected ones. The number of feature maps can be arbitrarily set. While the encoder contains standard convolutions and downscaling operations, the decoder utilizes interpolation-based upscalings and convolutions. The employment of transposed convolutions is another possibility, despite occasionally suffering from checkerboard artifacts."
   ]
  },
  {
   "cell_type": "code",
   "execution_count": 10,
   "id": "b14c7de9",
   "metadata": {},
   "outputs": [],
   "source": [
    "class ConvEncoder(nn.Module):\n",
    "    '''Convolutional encoder.'''\n",
    "\n",
    "    def __init__(self,\n",
    "                 no_channels1,\n",
    "                 no_channels2,\n",
    "                 no_hidden,\n",
    "                 no_latent):\n",
    "        super().__init__()\n",
    "        self.conv1 = nn.Conv2d(1, no_channels1, (3,3), padding=1)\n",
    "        self.conv2 = nn.Conv2d(no_channels1, no_channels1, (3,3), padding=1)\n",
    "        self.conv3 = nn.Conv2d(no_channels1, no_channels2, (3,3), padding=1)\n",
    "        self.conv4 = nn.Conv2d(no_channels2, no_channels2, (3,3), padding=1)\n",
    "        self.fc1 = nn.Linear(no_channels2*7*7, no_hidden)\n",
    "        self.fc21 = nn.Linear(no_hidden, no_latent)\n",
    "        self.fc22 = nn.Linear(no_hidden, no_latent)\n",
    "\n",
    "    def forward(self, x):\n",
    "        x = nn.functional.leaky_relu(self.conv1(x))\n",
    "        x = nn.functional.leaky_relu(self.conv2(x))\n",
    "        x = nn.functional.max_pool2d(x, kernel_size=2)\n",
    "        x = nn.functional.leaky_relu(self.conv3(x))\n",
    "        x = nn.functional.leaky_relu(self.conv4(x))\n",
    "        x = nn.functional.max_pool2d(x, kernel_size=2)\n",
    "        x = torch.flatten(x, start_dim=1)\n",
    "        x = nn.functional.leaky_relu(self.fc1(x))\n",
    "        mu = self.fc21(x)\n",
    "        logsigma = self.fc22(x)\n",
    "        return mu, logsigma\n",
    "\n",
    "class ConvDecoder(nn.Module):\n",
    "    '''Convolutional decoder.'''\n",
    "\n",
    "    def __init__(self,\n",
    "                 no_latent,\n",
    "                 no_hidden,\n",
    "                 no_channels1,\n",
    "                 no_channels2,\n",
    "                 conv_transpose=False):\n",
    "        super().__init__()\n",
    "        self.fc1 = nn.Linear(no_latent, no_hidden)\n",
    "        self.fc2 = nn.Linear(no_hidden, no_channels1*7*7)\n",
    "        if conv_transpose:\n",
    "            ConvLayer = nn.ConvTranspose2d\n",
    "        else:\n",
    "            ConvLayer = nn.Conv2d\n",
    "        self.conv1 = ConvLayer(no_channels1, no_channels1, (3,3), padding=1)\n",
    "        self.conv2 = ConvLayer(no_channels1, no_channels2, (3,3), padding=1)\n",
    "        self.conv3 = ConvLayer(no_channels2, no_channels2, (3,3), padding=1)\n",
    "        self.conv4 = ConvLayer(no_channels2, 1, (3,3), padding=1)\n",
    "\n",
    "    def forward(self, x):\n",
    "        x = nn.functional.leaky_relu(self.fc1(x))\n",
    "        x = nn.functional.leaky_relu(self.fc2(x))\n",
    "        x = x.view(-1, self.conv1.in_channels, 7, 7)\n",
    "        x = nn.functional.interpolate(x, scale_factor=2, mode='bilinear', align_corners=True)\n",
    "        x = nn.functional.leaky_relu(self.conv1(x))\n",
    "        x = nn.functional.leaky_relu(self.conv2(x))\n",
    "        x = nn.functional.interpolate(x, scale_factor=2, mode='bilinear', align_corners=True)\n",
    "        x = nn.functional.leaky_relu(self.conv3(x))\n",
    "        x = self.conv4(x)\n",
    "        return x"
   ]
  },
  {
   "cell_type": "markdown",
   "id": "e173917f",
   "metadata": {},
   "source": [
    "### Fully connected VAE with two-dimensional latent space\n",
    "\n",
    "In a first experiment, we visualize the latent space of a Bernoulli VAE on binarized MNIST. Encoder and decoder are instances of the four-layer fully connected neural nets defined above. The dimensionality of the latent space it set to only two. This is an arbitrary choice that facilitates the visual investigation of the encoding. Further architectural details and the training setup are specified in the cells below."
   ]
  },
  {
   "cell_type": "code",
   "execution_count": 11,
   "id": "7076d1c9",
   "metadata": {},
   "outputs": [
    {
     "name": "stdout",
     "output_type": "stream",
     "text": [
      "DenseEncoder(\n",
      "  (fc1): Linear(in_features=784, out_features=512, bias=True)\n",
      "  (fc2): Linear(in_features=512, out_features=128, bias=True)\n",
      "  (fc3): Linear(in_features=128, out_features=24, bias=True)\n",
      "  (fc41): Linear(in_features=24, out_features=2, bias=True)\n",
      "  (fc42): Linear(in_features=24, out_features=2, bias=True)\n",
      ")\n",
      "DenseDecoder(\n",
      "  (fc1): Linear(in_features=2, out_features=24, bias=True)\n",
      "  (fc2): Linear(in_features=24, out_features=128, bias=True)\n",
      "  (fc3): Linear(in_features=128, out_features=512, bias=True)\n",
      "  (fc4): Linear(in_features=512, out_features=784, bias=True)\n",
      ")\n"
     ]
    }
   ],
   "source": [
    "no_hidden1 = 512\n",
    "no_hidden2 = 128\n",
    "no_hidden3 = 24\n",
    "no_latent = 2\n",
    "dense_encoder = DenseEncoder(no_hidden1, no_hidden2, no_hidden3, no_latent)\n",
    "dense_decoder = DenseDecoder(no_latent, no_hidden3, no_hidden2, no_hidden1)\n",
    "dense_vae = BernoulliVAE(dense_encoder, dense_decoder)\n",
    "print(dense_encoder)\n",
    "print(dense_decoder)"
   ]
  },
  {
   "cell_type": "code",
   "execution_count": 12,
   "id": "a6b41335",
   "metadata": {},
   "outputs": [],
   "source": [
    "optimizer = torch.optim.Adam([{'params': dense_encoder.parameters()},\n",
    "                              {'params': dense_decoder.parameters()}], lr=0.001)\n",
    "dense_vae.compile_for_training(optimizer, train_loader, test_loader)"
   ]
  },
  {
   "cell_type": "markdown",
   "id": "83c70262",
   "metadata": {},
   "source": [
    "The VAE is quickly trained for 20 epochs. We monitor and plot the ELBO-based loss on both the train and test set. A single Monte Carlo sample is used in order to estimate the objective for each data point in a batch. The loss estimate is noisy due to this and, as usual, the randomized mini-batching."
   ]
  },
  {
   "cell_type": "code",
   "execution_count": 13,
   "id": "4e623e2a",
   "metadata": {},
   "outputs": [
    {
     "name": "stdout",
     "output_type": "stream",
     "text": [
      "Started training: 0, test loss: 5.4438e+02\n",
      "Finished epoch: 1, test loss: 1.6283e+02\n",
      "Finished epoch: 2, test loss: 1.5034e+02\n",
      "Finished epoch: 3, test loss: 1.3321e+02\n",
      "Finished epoch: 4, test loss: 1.4277e+02\n",
      "Finished epoch: 5, test loss: 1.4127e+02\n",
      "Finished epoch: 6, test loss: 1.3361e+02\n",
      "Finished epoch: 7, test loss: 1.4430e+02\n",
      "Finished epoch: 8, test loss: 1.3830e+02\n",
      "Finished epoch: 9, test loss: 1.3153e+02\n",
      "Finished epoch: 10, test loss: 1.3780e+02\n",
      "Finished epoch: 11, test loss: 1.2848e+02\n",
      "Finished epoch: 12, test loss: 1.3531e+02\n",
      "Finished epoch: 13, test loss: 1.4035e+02\n",
      "Finished epoch: 14, test loss: 1.3888e+02\n",
      "Finished epoch: 15, test loss: 1.3244e+02\n",
      "Finished epoch: 16, test loss: 1.3728e+02\n",
      "Finished epoch: 17, test loss: 1.3994e+02\n",
      "Finished epoch: 18, test loss: 1.2673e+02\n",
      "Finished epoch: 19, test loss: 1.3176e+02\n",
      "Finished epoch: 20, test loss: 1.3472e+02\n"
     ]
    }
   ],
   "source": [
    "dense_history = dense_vae.training(no_epochs=20, no_samples=1, log_interval=None)"
   ]
  },
  {
   "cell_type": "code",
   "execution_count": 14,
   "id": "d30dd585",
   "metadata": {},
   "outputs": [
    {
     "data": {
      "image/png": "[encoded data removed]",
      "text/plain": [
       "<Figure size 432x288 with 1 Axes>"
      ]
     },
     "metadata": {
      "needs_background": "light"
     },
     "output_type": "display_data"
    }
   ],
   "source": [
    "fig, ax = plt.subplots(figsize=(6,4))\n",
    "ax.plot(np.array(dense_history['train_loss']), label='training', alpha=0.7)\n",
    "ax.plot(np.array(dense_history['test_loss']), label='testing', alpha=0.7)\n",
    "ax.set(xlabel='epoch', ylabel='loss')\n",
    "ax.set_xlim([0, dense_history['no_epochs']])\n",
    "ax.legend()\n",
    "ax.grid(b=True, which='both', color='lightgray', linestyle='-')\n",
    "ax.set_axisbelow(True)\n",
    "fig.tight_layout()\n",
    "fig.show()"
   ]
  },
  {
   "cell_type": "markdown",
   "id": "fe2d7a6b",
   "metadata": {},
   "source": [
    "The trained encoder is in the following applied to the whole test set. Since this actually yields diagonal Gaussian distributions, only the mean vectors are used as the encodings. The alternative would be to take the full distributions or to simply generate random samples from them."
   ]
  },
  {
   "cell_type": "code",
   "execution_count": 15,
   "id": "13a896c4",
   "metadata": {},
   "outputs": [],
   "source": [
    "def encode_loader(vae, data_loader):\n",
    "    '''Encode all items in a data loader.'''\n",
    "    vae.sample(False)\n",
    "    vae.train(False)\n",
    "    z_mu = []\n",
    "    z_sigma = []\n",
    "    y = []\n",
    "    for X_batch, y_batch in data_loader:\n",
    "        with torch.no_grad():\n",
    "            X_batch = X_batch.to(vae.device)\n",
    "            y_batch = y_batch.to(vae.device)\n",
    "            z_batch_mu, z_batch_logsigma = vae.encode(X_batch)\n",
    "            z_batch_mu = z_batch_mu\n",
    "            z_batch_sigma = torch.exp(z_batch_logsigma)\n",
    "        z_mu.append(z_batch_mu)\n",
    "        z_sigma.append(z_batch_sigma)\n",
    "        y.append(y_batch)\n",
    "    z_mu = torch.cat(z_mu, dim=0)\n",
    "    z_sigma = torch.cat(z_sigma, dim=0)\n",
    "    y = torch.cat(y, dim=0)\n",
    "    return z_mu, z_sigma, y"
   ]
  },
  {
   "cell_type": "code",
   "execution_count": 16,
   "id": "db0a3d75",
   "metadata": {},
   "outputs": [],
   "source": [
    "z_mu, z_sigma, y = encode_loader(dense_vae, test_loader)\n",
    "z_mu = z_mu.cpu()\n",
    "z_sigma = z_sigma.cpu()\n",
    "y = y.cpu()"
   ]
  },
  {
   "cell_type": "markdown",
   "id": "64af7c1e",
   "metadata": {},
   "source": [
    "We can now plot the computed points in the two-dimensional latent space. Points belonging to different digits have different colors. While the VAE has not used any class label information during training, it is interesting to observe how the classes are organized in the latent space."
   ]
  },
  {
   "cell_type": "code",
   "execution_count": 17,
   "id": "93cc3a6e",
   "metadata": {},
   "outputs": [
    {
     "data": {
      "image/png": "[encoded data removed]",
      "text/plain": [
       "<Figure size 360x288 with 1 Axes>"
      ]
     },
     "metadata": {
      "needs_background": "light"
     },
     "output_type": "display_data"
    }
   ],
   "source": [
    "fig, ax = plt.subplots(figsize=(5,4))\n",
    "for idx in range(10):\n",
    "    ax.scatter(z_mu[y==idx,0][::2], z_mu[y==idx,1][::2], color=plt.cm.tab10(idx),\n",
    "               alpha=0.3, edgecolors='none', label='y={}'.format(idx))\n",
    "ax.set(xlabel='$z_1$', ylabel='$z_2$', xlim=(-5,7), ylim=(-5,5))\n",
    "ax.legend(loc='center right')\n",
    "ax.grid(b=True, which='both', color='lightgray', linestyle='-')\n",
    "ax.set_axisbelow(True)\n",
    "fig.tight_layout()\n",
    "fig.show()"
   ]
  },
  {
   "cell_type": "markdown",
   "id": "baf7f214",
   "metadata": {},
   "source": [
    "### Convolutional VAE with 32-dimensional latent space\n",
    "\n",
    "Of course, instead of using fully connected encoder and decoder networks, one can use convolutional ones. They embody prior expectations regarding vision applications, for example hierarchical representations and a certain translation invariance. Based on those principles, experiments regarding data encoding, reconstruction and generation are performed. We start with the initialization of a convolutional VAE with 32 latent variables."
   ]
  },
  {
   "cell_type": "code",
   "execution_count": 18,
   "id": "7483ccd5",
   "metadata": {},
   "outputs": [
    {
     "name": "stdout",
     "output_type": "stream",
     "text": [
      "ConvEncoder(\n",
      "  (conv1): Conv2d(1, 16, kernel_size=(3, 3), stride=(1, 1), padding=(1, 1))\n",
      "  (conv2): Conv2d(16, 16, kernel_size=(3, 3), stride=(1, 1), padding=(1, 1))\n",
      "  (conv3): Conv2d(16, 24, kernel_size=(3, 3), stride=(1, 1), padding=(1, 1))\n",
      "  (conv4): Conv2d(24, 24, kernel_size=(3, 3), stride=(1, 1), padding=(1, 1))\n",
      "  (fc1): Linear(in_features=1176, out_features=256, bias=True)\n",
      "  (fc21): Linear(in_features=256, out_features=32, bias=True)\n",
      "  (fc22): Linear(in_features=256, out_features=32, bias=True)\n",
      ")\n",
      "ConvDecoder(\n",
      "  (fc1): Linear(in_features=32, out_features=256, bias=True)\n",
      "  (fc2): Linear(in_features=256, out_features=1176, bias=True)\n",
      "  (conv1): Conv2d(24, 24, kernel_size=(3, 3), stride=(1, 1), padding=(1, 1))\n",
      "  (conv2): Conv2d(24, 16, kernel_size=(3, 3), stride=(1, 1), padding=(1, 1))\n",
      "  (conv3): Conv2d(16, 16, kernel_size=(3, 3), stride=(1, 1), padding=(1, 1))\n",
      "  (conv4): Conv2d(16, 1, kernel_size=(3, 3), stride=(1, 1), padding=(1, 1))\n",
      ")\n"
     ]
    }
   ],
   "source": [
    "no_channels1 = 16\n",
    "no_channels2 = 24\n",
    "no_hidden = 256\n",
    "no_latent = 32\n",
    "conv_encoder = ConvEncoder(\n",
    "    no_channels1,\n",
    "    no_channels2,\n",
    "    no_hidden,\n",
    "    no_latent\n",
    ")\n",
    "conv_decoder = ConvDecoder(\n",
    "    no_latent,\n",
    "    no_hidden,\n",
    "    no_channels2,\n",
    "    no_channels1,\n",
    "    conv_transpose=False\n",
    ")\n",
    "conv_vae = BernoulliVAE(conv_encoder, conv_decoder)\n",
    "print(conv_encoder)\n",
    "print(conv_decoder)"
   ]
  },
  {
   "cell_type": "code",
   "execution_count": 19,
   "id": "de563503",
   "metadata": {},
   "outputs": [],
   "source": [
    "optimizer = torch.optim.Adam([{'params': conv_encoder.parameters()},\n",
    "                              {'params': conv_decoder.parameters()}], lr=0.001)\n",
    "conv_vae.compile_for_training(optimizer, train_loader, test_loader)"
   ]
  },
  {
   "cell_type": "markdown",
   "id": "7296a942",
   "metadata": {},
   "source": [
    "The convolutional VAE is trained for 100 epochs. This takes significantly longer than the 20 epochs for the fully connected architecture. Again, a single-sample estimator of the loss and its gradient is employed. It was observed here that higher sample numbers have not improved convergence."
   ]
  },
  {
   "cell_type": "code",
   "execution_count": 20,
   "id": "4dee5d14",
   "metadata": {
    "scrolled": true
   },
   "outputs": [
    {
     "name": "stdout",
     "output_type": "stream",
     "text": [
      "Started training: 0, test loss: 5.3414e+02\n",
      "Finished epoch: 1, test loss: 1.0285e+02\n",
      "Finished epoch: 2, test loss: 8.9405e+01\n",
      "Finished epoch: 3, test loss: 8.6495e+01\n",
      "Finished epoch: 4, test loss: 8.5749e+01\n",
      "Finished epoch: 5, test loss: 7.9204e+01\n",
      "Finished epoch: 6, test loss: 7.7991e+01\n",
      "Finished epoch: 7, test loss: 7.9453e+01\n",
      "Finished epoch: 8, test loss: 7.8771e+01\n",
      "Finished epoch: 9, test loss: 7.7789e+01\n",
      "Finished epoch: 10, test loss: 7.9219e+01\n",
      "Finished epoch: 11, test loss: 7.8511e+01\n",
      "Finished epoch: 12, test loss: 7.7390e+01\n",
      "Finished epoch: 13, test loss: 7.5390e+01\n",
      "Finished epoch: 14, test loss: 7.5367e+01\n",
      "Finished epoch: 15, test loss: 7.4255e+01\n",
      "Finished epoch: 16, test loss: 7.8435e+01\n",
      "Finished epoch: 17, test loss: 7.4631e+01\n",
      "Finished epoch: 18, test loss: 7.2305e+01\n",
      "Finished epoch: 19, test loss: 7.4859e+01\n",
      "Finished epoch: 20, test loss: 7.3565e+01\n",
      "Finished epoch: 21, test loss: 7.3228e+01\n",
      "Finished epoch: 22, test loss: 7.5069e+01\n",
      "Finished epoch: 23, test loss: 7.3529e+01\n",
      "Finished epoch: 24, test loss: 7.3670e+01\n",
      "Finished epoch: 25, test loss: 7.2997e+01\n",
      "Finished epoch: 26, test loss: 7.9209e+01\n",
      "Finished epoch: 27, test loss: 7.2174e+01\n",
      "Finished epoch: 28, test loss: 7.5374e+01\n",
      "Finished epoch: 29, test loss: 7.1426e+01\n",
      "Finished epoch: 30, test loss: 7.3585e+01\n",
      "Finished epoch: 31, test loss: 7.0660e+01\n",
      "Finished epoch: 32, test loss: 7.3680e+01\n",
      "Finished epoch: 33, test loss: 7.1708e+01\n",
      "Finished epoch: 34, test loss: 7.0710e+01\n",
      "Finished epoch: 35, test loss: 7.3211e+01\n",
      "Finished epoch: 36, test loss: 7.5191e+01\n",
      "Finished epoch: 37, test loss: 7.1686e+01\n",
      "Finished epoch: 38, test loss: 7.4910e+01\n",
      "Finished epoch: 39, test loss: 6.8796e+01\n",
      "Finished epoch: 40, test loss: 7.1575e+01\n",
      "Finished epoch: 41, test loss: 7.5078e+01\n",
      "Finished epoch: 42, test loss: 6.9741e+01\n",
      "Finished epoch: 43, test loss: 7.2675e+01\n",
      "Finished epoch: 44, test loss: 6.9477e+01\n",
      "Finished epoch: 45, test loss: 7.2787e+01\n",
      "Finished epoch: 46, test loss: 7.0491e+01\n",
      "Finished epoch: 47, test loss: 7.2599e+01\n",
      "Finished epoch: 48, test loss: 7.1912e+01\n",
      "Finished epoch: 49, test loss: 7.2699e+01\n",
      "Finished epoch: 50, test loss: 7.2553e+01\n",
      "Finished epoch: 51, test loss: 6.9783e+01\n",
      "Finished epoch: 52, test loss: 7.3302e+01\n",
      "Finished epoch: 53, test loss: 7.0605e+01\n",
      "Finished epoch: 54, test loss: 7.1029e+01\n",
      "Finished epoch: 55, test loss: 7.2980e+01\n",
      "Finished epoch: 56, test loss: 7.2562e+01\n",
      "Finished epoch: 57, test loss: 7.0519e+01\n",
      "Finished epoch: 58, test loss: 7.4921e+01\n",
      "Finished epoch: 59, test loss: 7.2471e+01\n",
      "Finished epoch: 60, test loss: 7.4963e+01\n",
      "Finished epoch: 61, test loss: 7.2214e+01\n",
      "Finished epoch: 62, test loss: 7.3601e+01\n",
      "Finished epoch: 63, test loss: 7.0430e+01\n",
      "Finished epoch: 64, test loss: 7.1565e+01\n",
      "Finished epoch: 65, test loss: 7.4107e+01\n",
      "Finished epoch: 66, test loss: 7.5258e+01\n",
      "Finished epoch: 67, test loss: 7.1949e+01\n",
      "Finished epoch: 68, test loss: 7.1707e+01\n",
      "Finished epoch: 69, test loss: 6.8814e+01\n",
      "Finished epoch: 70, test loss: 7.2404e+01\n",
      "Finished epoch: 71, test loss: 7.4390e+01\n",
      "Finished epoch: 72, test loss: 7.4854e+01\n",
      "Finished epoch: 73, test loss: 7.2060e+01\n",
      "Finished epoch: 74, test loss: 7.2164e+01\n",
      "Finished epoch: 75, test loss: 7.1649e+01\n",
      "Finished epoch: 76, test loss: 6.9554e+01\n",
      "Finished epoch: 77, test loss: 7.3244e+01\n",
      "Finished epoch: 78, test loss: 6.9001e+01\n",
      "Finished epoch: 79, test loss: 6.9512e+01\n",
      "Finished epoch: 80, test loss: 7.0588e+01\n",
      "Finished epoch: 81, test loss: 7.1848e+01\n",
      "Finished epoch: 82, test loss: 7.2720e+01\n",
      "Finished epoch: 83, test loss: 7.2299e+01\n",
      "Finished epoch: 84, test loss: 7.2224e+01\n",
      "Finished epoch: 85, test loss: 6.9518e+01\n",
      "Finished epoch: 86, test loss: 7.0746e+01\n",
      "Finished epoch: 87, test loss: 7.3427e+01\n",
      "Finished epoch: 88, test loss: 7.5121e+01\n",
      "Finished epoch: 89, test loss: 7.0723e+01\n",
      "Finished epoch: 90, test loss: 7.1676e+01\n",
      "Finished epoch: 91, test loss: 7.0171e+01\n",
      "Finished epoch: 92, test loss: 7.0515e+01\n",
      "Finished epoch: 93, test loss: 6.8866e+01\n",
      "Finished epoch: 94, test loss: 6.9802e+01\n",
      "Finished epoch: 95, test loss: 7.2064e+01\n",
      "Finished epoch: 96, test loss: 6.9094e+01\n",
      "Finished epoch: 97, test loss: 7.2085e+01\n",
      "Finished epoch: 98, test loss: 6.8920e+01\n",
      "Finished epoch: 99, test loss: 7.1449e+01\n",
      "Finished epoch: 100, test loss: 7.0594e+01\n"
     ]
    }
   ],
   "source": [
    "conv_history = conv_vae.training(no_epochs=100, no_samples=1, log_interval=None)"
   ]
  },
  {
   "cell_type": "code",
   "execution_count": 21,
   "id": "5c28f990",
   "metadata": {},
   "outputs": [
    {
     "data": {
      "image/png": "[encoded data removed]",
      "text/plain": [
       "<Figure size 432x288 with 1 Axes>"
      ]
     },
     "metadata": {
      "needs_background": "light"
     },
     "output_type": "display_data"
    }
   ],
   "source": [
    "fig, ax = plt.subplots(figsize=(6,4))\n",
    "ax.plot(np.array(conv_history['train_loss']), label='training', alpha=0.7)\n",
    "ax.plot(np.array(conv_history['test_loss']), label='testing', alpha=0.7)\n",
    "ax.set(xlabel='epoch', ylabel='loss')\n",
    "ax.set_xlim([0, conv_history['no_epochs']])\n",
    "ax.legend()\n",
    "ax.grid(b=True, which='both', color='lightgray', linestyle='-')\n",
    "ax.set_axisbelow(True)\n",
    "fig.tight_layout()\n",
    "fig.show()"
   ]
  },
  {
   "cell_type": "markdown",
   "id": "e25057a6",
   "metadata": {},
   "source": [
    "Images can now be compressed into their latent representation and subsequently be reconstructed. The following procedure is applied to each binary image in a generated batch. First, the encoding is computed while sampling is turned off. The mean values of the diagonal Gaussian form the encoding. Second, the decoder is used on this latent code also without sampling. Finally, the predicted Bernoulli probabilities constitute the image reconstruction."
   ]
  },
  {
   "cell_type": "code",
   "execution_count": 22,
   "id": "f565443a",
   "metadata": {},
   "outputs": [],
   "source": [
    "X_batch, _ = next(iter(test_loader))\n",
    "conv_vae.sample(False)\n",
    "conv_vae.train(False)\n",
    "with torch.no_grad():\n",
    "    X_batch = X_batch.to(conv_vae.device)\n",
    "    X_reconstructed = conv_vae(X_batch)"
   ]
  },
  {
   "cell_type": "markdown",
   "id": "fa53de3f",
   "metadata": {},
   "source": [
    "A random sample of the binarized test images is shown in the first row of the following figure. The second row contains the corresponding image reconstructions. While the reconstruction quality seems to be generally satisfactory, one can observe a certain \"blurriness\". This is not only a consequence of comparing continuous reconstructions with binary originals, but also a general weakness of VAE models."
   ]
  },
  {
   "cell_type": "code",
   "execution_count": 23,
   "id": "100ae7ca",
   "metadata": {},
   "outputs": [
    {
     "data": {
      "image/png": "[encoded data removed]",
      "text/plain": [
       "<Figure size 540x216 with 12 Axes>"
      ]
     },
     "metadata": {},
     "output_type": "display_data"
    }
   ],
   "source": [
    "fig, axes = plt.subplots(nrows=2, ncols=6, figsize=(7.5,3))\n",
    "for idx, ax in enumerate(axes[0]):\n",
    "    image = X_batch[idx,0].cpu().numpy()\n",
    "    ax.imshow(image.clip(0,1), cmap='gray')\n",
    "    ax.set_title('$x^{{({})}}$'.format(idx+1))\n",
    "    ax.set(xticks=[], yticks=[], xlabel='', ylabel='')\n",
    "for idx, ax in enumerate(axes[1]):\n",
    "    image = X_reconstructed[idx,0].cpu().numpy()\n",
    "    ax.imshow(image.clip(0,1), cmap='gray')\n",
    "    ax.set_title('$\\\\hat{{x}}^{{({})}}$'.format(idx+1))\n",
    "    ax.set(xticks=[], yticks=[], xlabel='', ylabel='')\n",
    "fig.tight_layout()\n",
    "fig.show()"
   ]
  },
  {
   "cell_type": "markdown",
   "id": "704bf145",
   "metadata": {},
   "source": [
    "Another demonstration of how one can use the VAE for generative modeling is now provided. One hundred samples are drawn from the prior sampling distribution of the latent variables. Since this is just a diagonal Gaussian, only standard normal variates have to be generated. Those latent values are subsequently passed to the decoder. The corresponding outputs are collected in a tensor."
   ]
  },
  {
   "cell_type": "code",
   "execution_count": 24,
   "id": "5bbf1bcb",
   "metadata": {},
   "outputs": [],
   "source": [
    "no_samples = 100\n",
    "z_samples = torch.randn(no_samples, no_latent)\n",
    "conv_vae.sample(True)\n",
    "conv_vae.train(False)\n",
    "with torch.no_grad():\n",
    "    z_samples = z_samples.to(conv_vae.device)\n",
    "    X_generated = conv_vae.decode(z_samples)"
   ]
  },
  {
   "cell_type": "markdown",
   "id": "de71c74e",
   "metadata": {},
   "source": [
    "Even though the training data was binarized, the images that are generated this way have continuous pixel values. While the results are certainly not perfect yet, the generated images look already quite realistic. Architectural improvements would likely enhance the generative modeling quality."
   ]
  },
  {
   "cell_type": "code",
   "execution_count": 25,
   "id": "c4961917",
   "metadata": {},
   "outputs": [
    {
     "data": {
      "image/png": "[encoded data removed]",
      "text/plain": [
       "<Figure size 360x324 with 12 Axes>"
      ]
     },
     "metadata": {},
     "output_type": "display_data"
    }
   ],
   "source": [
    "fig, axes = plt.subplots(nrows=3, ncols=4, figsize=(5,4.5))\n",
    "for idx, ax in enumerate(axes.ravel()):\n",
    "    image = X_generated[idx,0].cpu().numpy()\n",
    "    ax.imshow(image.clip(0,1), cmap='gray')\n",
    "    ax.set(xticks=[], yticks=[], xlabel='', ylabel='')\n",
    "    ax.set_title('$\\\\tilde{{x}}^{{({})}}$'.format(idx+1))\n",
    "fig.tight_layout()\n",
    "fig.show()"
   ]
  }
 ],
 "metadata": {
  "kernelspec": {
   "display_name": "Python 3",
   "language": "python",
   "name": "python3"
  },
  "language_info": {
   "codemirror_mode": {
    "name": "ipython",
    "version": 3
   },
   "file_extension": ".py",
   "mimetype": "text/x-python",
   "name": "python",
   "nbconvert_exporter": "python",
   "pygments_lexer": "ipython3",
   "version": "3.9.5"
  }
 },
 "nbformat": 4,
 "nbformat_minor": 5
}
